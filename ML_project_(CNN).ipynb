{
  "nbformat": 4,
  "nbformat_minor": 0,
  "metadata": {
    "colab": {
      "name": "ML project (CNN).ipynb",
      "provenance": [],
      "collapsed_sections": [],
      "include_colab_link": true
    },
    "kernelspec": {
      "name": "python3",
      "display_name": "Python 3"
    }
  },
  "cells": [
    {
      "cell_type": "markdown",
      "metadata": {
        "id": "view-in-github",
        "colab_type": "text"
      },
      "source": [
        "<a href=\"https://colab.research.google.com/github/tarjerw/TDT4173-project-group6/blob/main/ML_project_(CNN).ipynb\" target=\"_parent\"><img src=\"https://colab.research.google.com/assets/colab-badge.svg\" alt=\"Open In Colab\"/></a>"
      ]
    },
    {
      "cell_type": "markdown",
      "metadata": {
        "id": "-InharmhPF7W"
      },
      "source": [
        "Political party analysis program that parses the tweets fetched from Twitter using Python"
      ]
    },
    {
      "cell_type": "code",
      "metadata": {
        "id": "RDX2HpAbVCwU",
        "outputId": "fdd60859-1f43-4127-ac2a-78104440163d",
        "colab": {
          "base_uri": "https://localhost:8080/"
        }
      },
      "source": [
        "###### IMPORT THE LIBRARIES  #########\n",
        "import pandas as pd\n",
        "import numpy as np\n",
        "import re\n",
        "import matplotlib.pyplot as plt\n",
        "from datetime import datetime\n",
        "\n",
        "#sklearn, used for train_test_split\n",
        "import sklearn\n",
        "from sklearn.feature_extraction.text import CountVectorizer\n",
        "from sklearn.model_selection import train_test_split\n",
        "from sklearn.metrics import confusion_matrix\n",
        "from sklearn.linear_model import LogisticRegression\n",
        "from sklearn.model_selection import cross_val_score\n",
        "\n",
        "\n",
        "\n",
        "#used for data cleaning\n",
        "import re\n",
        "import string\n",
        "\n",
        "#used nltk used for sopwords and tokenizing\n",
        "import nltk\n",
        "nltk.download('punkt')\n",
        "from nltk import word_tokenize\n",
        "nltk.download('stopwords')\n",
        "from nltk.corpus import stopwords\n",
        "\n",
        "\n",
        "#gensim is used to help create the Word2Vec model used\n",
        "import gensim.models\n",
        "from gensim.models import Word2Vec, KeyedVectors\n",
        "from gensim import models\n",
        "\n",
        "import io\n",
        "\n",
        "#keras is used for creating the CNN \n",
        "from keras.preprocessing.text import Tokenizer\n",
        "from keras.preprocessing.sequence import pad_sequences\n",
        "from keras.layers import Dense, Dropout, Reshape, Flatten, concatenate, Input, Conv1D, GlobalMaxPooling1D, Embedding\n",
        "from keras.models import Model\n"
      ],
      "execution_count": null,
      "outputs": [
        {
          "output_type": "stream",
          "text": [
            "[nltk_data] Downloading package punkt to /root/nltk_data...\n",
            "[nltk_data]   Package punkt is already up-to-date!\n",
            "[nltk_data] Downloading package stopwords to /root/nltk_data...\n",
            "[nltk_data]   Package stopwords is already up-to-date!\n"
          ],
          "name": "stdout"
        }
      ]
    },
    {
      "cell_type": "markdown",
      "metadata": {
        "id": "DZom6A0JPscH"
      },
      "source": [
        "##Retrieve data"
      ]
    },
    {
      "cell_type": "code",
      "metadata": {
        "id": "mvhRzsKoGpGc"
      },
      "source": [
        "#retrieves data\n",
        "tweets2016_df = pd.read_csv('TweetDatabase_2016.csv')\n",
        "tweets2020_df = pd.read_csv('TweetDatabase_2020.csv')\n",
        "tweets2016_2020_df = tweets2016_df.append(tweets2020_df)\n",
        "df_all = tweets2016_2020_df #set which dataset to use (2016 or 2020,or both)\n",
        "df_all = df_all.drop_duplicates() #removes all duplicates\n",
        "#shuffles data\n",
        "df_all = df_all.sample(frac = 1)"
      ],
      "execution_count": null,
      "outputs": []
    },
    {
      "cell_type": "markdown",
      "metadata": {
        "id": "CGwQdySMZfSl"
      },
      "source": [
        "#Sentiment Analysis using Convolution Neural Networks\n",
        "\n",
        "\n",
        "\n",
        "> Create word2vec model\n",
        "\n",
        "\n"
      ]
    },
    {
      "cell_type": "code",
      "metadata": {
        "id": "3Kiqff5_OcYm",
        "outputId": "89c44129-23c8-49d0-a491-f80596b99c35",
        "colab": {
          "base_uri": "https://localhost:8080/",
          "height": 375
        }
      },
      "source": [
        "#this might take some time, 4 min\n",
        "#creating a word2vec model using reddit world news dataset, which can be accessed here: https://www.kaggle.com/rootuser/worldnews-on-reddit\n",
        "\n",
        "reddit_df = pd.read_csv('reddit_worldnews_start_to_2016-11-22.csv') #https://www.kaggle.com/rootuser/worldnews-on-reddit\n",
        "# Dataset is now stored in a Pandas Dataframe \n",
        "\n",
        "#make all words lowercase, as all words in tweets are converted to lowercase \n",
        "reddit_df['title'] = reddit_df['title'].str.lower()\n",
        "\n",
        "newsTitles  = reddit_df['title'].values\n",
        "tweets2016 = tweets2016_df['Tweet'].values\n",
        "tweets2020 = tweets2020_df['Tweet'].values\n",
        "newsTitles = np.concatenate((newsTitles, tweets2016, tweets2020), axis=0) #add tweets data for training the word2vec model\n",
        "newsVec = [nltk.word_tokenize(title) for title in newsTitles]\n",
        "\n",
        "word2vec_dim = 350 #sets the dimension of the vector for each word\n",
        "\n",
        "word2vec = Word2Vec(newsVec,min_count=1,size= word2vec_dim) #creating the word2vec model, using gensim.Word2Vec function with the data from the reddit_worldnews dataset\n",
        "#this model can be used for converting words to vectors! :) \n",
        "\n",
        "#prints timestamp of when last completed\n",
        "now = datetime.now()\n",
        "current_time = now.strftime(\"%H:%M:%S\")\n",
        "print(\"Last updated at =\", current_time, \"word2vec_dim set to:\", word2vec_dim)"
      ],
      "execution_count": null,
      "outputs": [
        {
          "output_type": "error",
          "ename": "KeyboardInterrupt",
          "evalue": "ignored",
          "traceback": [
            "\u001b[0;31m---------------------------------------------------------------------------\u001b[0m",
            "\u001b[0;31mKeyboardInterrupt\u001b[0m                         Traceback (most recent call last)",
            "\u001b[0;32m<ipython-input-386-8ae387326111>\u001b[0m in \u001b[0;36m<module>\u001b[0;34m()\u001b[0m\n\u001b[1;32m     12\u001b[0m \u001b[0mtweets2020\u001b[0m \u001b[0;34m=\u001b[0m \u001b[0mtweets2020_df\u001b[0m\u001b[0;34m[\u001b[0m\u001b[0;34m'Tweet'\u001b[0m\u001b[0;34m]\u001b[0m\u001b[0;34m.\u001b[0m\u001b[0mvalues\u001b[0m\u001b[0;34m\u001b[0m\u001b[0;34m\u001b[0m\u001b[0m\n\u001b[1;32m     13\u001b[0m \u001b[0mnewsTitles\u001b[0m \u001b[0;34m=\u001b[0m \u001b[0mnp\u001b[0m\u001b[0;34m.\u001b[0m\u001b[0mconcatenate\u001b[0m\u001b[0;34m(\u001b[0m\u001b[0;34m(\u001b[0m\u001b[0mnewsTitles\u001b[0m\u001b[0;34m,\u001b[0m \u001b[0mtweets2016\u001b[0m\u001b[0;34m,\u001b[0m \u001b[0mtweets2020\u001b[0m\u001b[0;34m)\u001b[0m\u001b[0;34m,\u001b[0m \u001b[0maxis\u001b[0m\u001b[0;34m=\u001b[0m\u001b[0;36m0\u001b[0m\u001b[0;34m)\u001b[0m \u001b[0;31m#add tweets data for training the word2vec model\u001b[0m\u001b[0;34m\u001b[0m\u001b[0;34m\u001b[0m\u001b[0m\n\u001b[0;32m---> 14\u001b[0;31m \u001b[0mnewsVec\u001b[0m \u001b[0;34m=\u001b[0m \u001b[0;34m[\u001b[0m\u001b[0mnltk\u001b[0m\u001b[0;34m.\u001b[0m\u001b[0mword_tokenize\u001b[0m\u001b[0;34m(\u001b[0m\u001b[0mtitle\u001b[0m\u001b[0;34m)\u001b[0m \u001b[0;32mfor\u001b[0m \u001b[0mtitle\u001b[0m \u001b[0;32min\u001b[0m \u001b[0mnewsTitles\u001b[0m\u001b[0;34m]\u001b[0m\u001b[0;34m\u001b[0m\u001b[0;34m\u001b[0m\u001b[0m\n\u001b[0m\u001b[1;32m     15\u001b[0m \u001b[0;34m\u001b[0m\u001b[0m\n\u001b[1;32m     16\u001b[0m \u001b[0mword2vec_dim\u001b[0m \u001b[0;34m=\u001b[0m \u001b[0;36m350\u001b[0m \u001b[0;31m#sets the dimension of the vector for each word\u001b[0m\u001b[0;34m\u001b[0m\u001b[0;34m\u001b[0m\u001b[0m\n",
            "\u001b[0;32m<ipython-input-386-8ae387326111>\u001b[0m in \u001b[0;36m<listcomp>\u001b[0;34m(.0)\u001b[0m\n\u001b[1;32m     12\u001b[0m \u001b[0mtweets2020\u001b[0m \u001b[0;34m=\u001b[0m \u001b[0mtweets2020_df\u001b[0m\u001b[0;34m[\u001b[0m\u001b[0;34m'Tweet'\u001b[0m\u001b[0;34m]\u001b[0m\u001b[0;34m.\u001b[0m\u001b[0mvalues\u001b[0m\u001b[0;34m\u001b[0m\u001b[0;34m\u001b[0m\u001b[0m\n\u001b[1;32m     13\u001b[0m \u001b[0mnewsTitles\u001b[0m \u001b[0;34m=\u001b[0m \u001b[0mnp\u001b[0m\u001b[0;34m.\u001b[0m\u001b[0mconcatenate\u001b[0m\u001b[0;34m(\u001b[0m\u001b[0;34m(\u001b[0m\u001b[0mnewsTitles\u001b[0m\u001b[0;34m,\u001b[0m \u001b[0mtweets2016\u001b[0m\u001b[0;34m,\u001b[0m \u001b[0mtweets2020\u001b[0m\u001b[0;34m)\u001b[0m\u001b[0;34m,\u001b[0m \u001b[0maxis\u001b[0m\u001b[0;34m=\u001b[0m\u001b[0;36m0\u001b[0m\u001b[0;34m)\u001b[0m \u001b[0;31m#add tweets data for training the word2vec model\u001b[0m\u001b[0;34m\u001b[0m\u001b[0;34m\u001b[0m\u001b[0m\n\u001b[0;32m---> 14\u001b[0;31m \u001b[0mnewsVec\u001b[0m \u001b[0;34m=\u001b[0m \u001b[0;34m[\u001b[0m\u001b[0mnltk\u001b[0m\u001b[0;34m.\u001b[0m\u001b[0mword_tokenize\u001b[0m\u001b[0;34m(\u001b[0m\u001b[0mtitle\u001b[0m\u001b[0;34m)\u001b[0m \u001b[0;32mfor\u001b[0m \u001b[0mtitle\u001b[0m \u001b[0;32min\u001b[0m \u001b[0mnewsTitles\u001b[0m\u001b[0;34m]\u001b[0m\u001b[0;34m\u001b[0m\u001b[0;34m\u001b[0m\u001b[0m\n\u001b[0m\u001b[1;32m     15\u001b[0m \u001b[0;34m\u001b[0m\u001b[0m\n\u001b[1;32m     16\u001b[0m \u001b[0mword2vec_dim\u001b[0m \u001b[0;34m=\u001b[0m \u001b[0;36m350\u001b[0m \u001b[0;31m#sets the dimension of the vector for each word\u001b[0m\u001b[0;34m\u001b[0m\u001b[0;34m\u001b[0m\u001b[0m\n",
            "\u001b[0;32m/usr/local/lib/python3.6/dist-packages/nltk/tokenize/__init__.py\u001b[0m in \u001b[0;36mword_tokenize\u001b[0;34m(text, language, preserve_line)\u001b[0m\n\u001b[1;32m    127\u001b[0m     \"\"\"\n\u001b[1;32m    128\u001b[0m     \u001b[0msentences\u001b[0m \u001b[0;34m=\u001b[0m \u001b[0;34m[\u001b[0m\u001b[0mtext\u001b[0m\u001b[0;34m]\u001b[0m \u001b[0;32mif\u001b[0m \u001b[0mpreserve_line\u001b[0m \u001b[0;32melse\u001b[0m \u001b[0msent_tokenize\u001b[0m\u001b[0;34m(\u001b[0m\u001b[0mtext\u001b[0m\u001b[0;34m,\u001b[0m \u001b[0mlanguage\u001b[0m\u001b[0;34m)\u001b[0m\u001b[0;34m\u001b[0m\u001b[0;34m\u001b[0m\u001b[0m\n\u001b[0;32m--> 129\u001b[0;31m     return [token for sent in sentences\n\u001b[0m\u001b[1;32m    130\u001b[0m             for token in _treebank_word_tokenizer.tokenize(sent)]\n",
            "\u001b[0;32m/usr/local/lib/python3.6/dist-packages/nltk/tokenize/__init__.py\u001b[0m in \u001b[0;36m<listcomp>\u001b[0;34m(.0)\u001b[0m\n\u001b[1;32m    128\u001b[0m     \u001b[0msentences\u001b[0m \u001b[0;34m=\u001b[0m \u001b[0;34m[\u001b[0m\u001b[0mtext\u001b[0m\u001b[0;34m]\u001b[0m \u001b[0;32mif\u001b[0m \u001b[0mpreserve_line\u001b[0m \u001b[0;32melse\u001b[0m \u001b[0msent_tokenize\u001b[0m\u001b[0;34m(\u001b[0m\u001b[0mtext\u001b[0m\u001b[0;34m,\u001b[0m \u001b[0mlanguage\u001b[0m\u001b[0;34m)\u001b[0m\u001b[0;34m\u001b[0m\u001b[0;34m\u001b[0m\u001b[0m\n\u001b[1;32m    129\u001b[0m     return [token for sent in sentences\n\u001b[0;32m--> 130\u001b[0;31m             for token in _treebank_word_tokenizer.tokenize(sent)]\n\u001b[0m",
            "\u001b[0;32m/usr/local/lib/python3.6/dist-packages/nltk/tokenize/treebank.py\u001b[0m in \u001b[0;36mtokenize\u001b[0;34m(self, text, convert_parentheses, return_str)\u001b[0m\n\u001b[1;32m    125\u001b[0m         \u001b[0;31m# Handles double dash.\u001b[0m\u001b[0;34m\u001b[0m\u001b[0;34m\u001b[0m\u001b[0;34m\u001b[0m\u001b[0m\n\u001b[1;32m    126\u001b[0m         \u001b[0mregexp\u001b[0m\u001b[0;34m,\u001b[0m \u001b[0msubstitution\u001b[0m \u001b[0;34m=\u001b[0m \u001b[0mself\u001b[0m\u001b[0;34m.\u001b[0m\u001b[0mDOUBLE_DASHES\u001b[0m\u001b[0;34m\u001b[0m\u001b[0;34m\u001b[0m\u001b[0m\n\u001b[0;32m--> 127\u001b[0;31m         \u001b[0mtext\u001b[0m \u001b[0;34m=\u001b[0m \u001b[0mregexp\u001b[0m\u001b[0;34m.\u001b[0m\u001b[0msub\u001b[0m\u001b[0;34m(\u001b[0m\u001b[0msubstitution\u001b[0m\u001b[0;34m,\u001b[0m \u001b[0mtext\u001b[0m\u001b[0;34m)\u001b[0m\u001b[0;34m\u001b[0m\u001b[0;34m\u001b[0m\u001b[0m\n\u001b[0m\u001b[1;32m    128\u001b[0m \u001b[0;34m\u001b[0m\u001b[0m\n\u001b[1;32m    129\u001b[0m         \u001b[0;31m#add extra space to make things easier\u001b[0m\u001b[0;34m\u001b[0m\u001b[0;34m\u001b[0m\u001b[0;34m\u001b[0m\u001b[0m\n",
            "\u001b[0;31mKeyboardInterrupt\u001b[0m: "
          ]
        }
      ]
    },
    {
      "cell_type": "markdown",
      "metadata": {
        "id": "qmo9Lc98l8S9"
      },
      "source": [
        "Clean Data, and tokenize"
      ]
    },
    {
      "cell_type": "code",
      "metadata": {
        "id": "tSOnY5y4-V-q"
      },
      "source": [
        "#data cleaning \n",
        "\n",
        "#removes punctuation for all words\n",
        "def nopunct(inputString):\n",
        "    nopunct = ''\n",
        "    nopunct = re.sub('['+string.punctuation+']', '', inputString)\n",
        "    return nopunct\n",
        "    \n",
        "\n",
        "df_all['Clean_Tweet'] = df_all['Tweet'].apply(lambda x: nopunct(x))\n",
        "\n",
        "#use NLTK’s word_tokenize, which turns sentences into list of words(tokens). e.g, \"hello world\" -> [\"hello\",\"world\"]\n",
        "tokens = [word_tokenize(tweet) for tweet in df_all.Clean_Tweet]\n",
        "\n",
        "#set all words to lower case\n",
        "def lword(tweet): \n",
        "    return [t.lower() for t in tweet]     \n",
        "lower_tweet = [lword(tweet) for tweet in tokens]\n",
        "\n",
        "#remove stopwords. Filter out certain words, using the NLTK's stopwords\n",
        "stopwordList = stopwords.words('english') #words to filter out, stopwords imported from NLTK\n",
        "def delStopWords(tweet): \n",
        "    return [word for word in tweet if word not in stopwordList]\n",
        "filtered_w = [delStopWords(tweet) for tweet in lower_tweet]\n",
        "df_all['Tweet_Final'] = [' '.join(tweet) for tweet in filtered_w] #sets the final tweet into the dataframe\n",
        "df_all['tokens'] = filtered_w #sets the final tokens into the dataframe"
      ],
      "execution_count": null,
      "outputs": []
    },
    {
      "cell_type": "code",
      "metadata": {
        "id": "SMz9us5n_qcb"
      },
      "source": [
        "#want to make a variable \"rep\" which is 1 if the candidate is a republican and 0 otherwise. Also want a \"dem\" variable\n",
        "rep = []\n",
        "dem = []\n",
        "for party in df_all.Party: #define as republican or democrat (label for supervised training)\n",
        "    if party == \"Democrat\":\n",
        "        dem.append(1)\n",
        "        rep.append(0)\n",
        "    elif party == \"Republican\":\n",
        "        dem.append(0)\n",
        "        rep.append(1)\n",
        "df_all['rep']= rep\n",
        "df_all['dem']= dem\n",
        "\n",
        "df_all = df_all[['Tweet_Final', 'tokens', 'Party', 'rep', 'dem']]"
      ],
      "execution_count": null,
      "outputs": []
    },
    {
      "cell_type": "markdown",
      "metadata": {
        "id": "Yd7h0kN5O6nH"
      },
      "source": [
        "split into training and test data"
      ]
    },
    {
      "cell_type": "code",
      "metadata": {
        "id": "emwzR0rACnd_"
      },
      "source": [
        "# Splits dataset into Training data and Test data, with 20% test data and 80% training data\n",
        "training_data, test_data = train_test_split(df_all, \n",
        "                                         test_size=0.20, \n",
        "                                         random_state=36)\n",
        "\n"
      ],
      "execution_count": null,
      "outputs": []
    },
    {
      "cell_type": "code",
      "metadata": {
        "id": "A70lBE3LTvgw"
      },
      "source": [
        "#finds the number of unique words in the training data\n",
        "training_words = [word for tokens in training_data[\"tokens\"] for word in tokens] #all words used in training data\n",
        "train_vocab_lenght = len(sorted(list(set(training_words)))) #number of unique words in training data\n",
        "\n",
        "#Keras.Tokenizer allows for creating vectors out of text corpus by asigning each unique word a integer \n",
        "tokenizer = Tokenizer(num_words=train_vocab_lenght, lower=True, char_level=False) \n",
        "tokenizer.fit_on_texts(training_data['Tweet_Final'].tolist()) \n",
        "\n",
        "train_seq = tokenizer.texts_to_sequences(training_data['Tweet_Final'].tolist())\n",
        "train_word_index = tokenizer.word_index\n",
        "test_seq = tokenizer.texts_to_sequences(test_data['Tweet_Final'].tolist())\n",
        "test_word_index = tokenizer.word_index\n",
        "\n",
        "#using keras.pad_sequences\n",
        "#each tweet is in the cnn data represented as a list of integers, each integer indexing a word.\n",
        "#padding adds 0's at the end of each list so they are all the same size, all of lenght 50\n",
        "max_lenght = 50 #sets the max lenght of a tweet, in number of words, 50 based on data analysis.\n",
        "cnn_training_data = pad_sequences(train_seq, \n",
        "                               maxlen=max_lenght) \n",
        "cnn_testing_data = pad_sequences(test_seq, \n",
        "                               maxlen=max_lenght)\n"
      ],
      "execution_count": null,
      "outputs": []
    },
    {
      "cell_type": "code",
      "metadata": {
        "id": "c0DzjtXFV_kE",
        "outputId": "dfb418a2-712b-43e6-a344-5f25b54e4d7b",
        "colab": {
          "base_uri": "https://localhost:8080/"
        }
      },
      "source": [
        "#creat the train_embeddings (word vector) for each word in the vocabulary, using the word2vec model\n",
        "train_embeddings = np.zeros((train_vocab_lenght+1, \n",
        " word2vec_dim))\n",
        "\n",
        "#if word not in word2vec model, set to random value. \n",
        "notIn = 0\n",
        "In = 0\n",
        "for word,ind in train_word_index.items():\n",
        "    train_embeddings[ind,:] = word2vec[word] if word in word2vec else np.random.rand(word2vec_dim) \n",
        "    if word not in word2vec:\n",
        "      notIn +=1\n",
        "    else:\n",
        "      In += 1\n",
        "print(notIn)\n"
      ],
      "execution_count": null,
      "outputs": [
        {
          "output_type": "stream",
          "text": [
            "/usr/local/lib/python3.6/dist-packages/ipykernel_launcher.py:9: DeprecationWarning: Call to deprecated `__contains__` (Method will be removed in 4.0.0, use self.wv.__contains__() instead).\n",
            "  if __name__ == '__main__':\n",
            "/usr/local/lib/python3.6/dist-packages/ipykernel_launcher.py:9: DeprecationWarning: Call to deprecated `__getitem__` (Method will be removed in 4.0.0, use self.wv.__getitem__() instead).\n",
            "  if __name__ == '__main__':\n",
            "/usr/local/lib/python3.6/dist-packages/ipykernel_launcher.py:10: DeprecationWarning: Call to deprecated `__contains__` (Method will be removed in 4.0.0, use self.wv.__contains__() instead).\n",
            "  # Remove the CWD from sys.path while we load stuff.\n"
          ],
          "name": "stderr"
        },
        {
          "output_type": "stream",
          "text": [
            "8422\n"
          ],
          "name": "stdout"
        }
      ]
    },
    {
      "cell_type": "markdown",
      "metadata": {
        "id": "flUEksH4O-3y"
      },
      "source": [
        "define the CNN"
      ]
    },
    {
      "cell_type": "code",
      "metadata": {
        "id": "yr1vaRAjWlL4"
      },
      "source": [
        "#defining a CNN\n",
        "\n",
        "def CNN(embeddings, max_length, vocab_lenght, embedding_dimensions):\n",
        " \n",
        "    embedding_layer = Embedding(vocab_lenght,\n",
        "                            embedding_dimensions,\n",
        "                            weights=[embeddings],\n",
        "                            input_length=max_length,\n",
        "                            trainable=False) #use Keras.Embedding to create the embedding layer based on the weights from the word2vec model\n",
        "  \n",
        "    seq_input = Input(shape=(max_length,), dtype='int32')\n",
        "    embedded_sequences = embedding_layer(seq_input)\n",
        "\n",
        "    kernel_sizes = [1,2,3,4,5,6]\n",
        "    convolutions = []\n",
        "    for kernel_size in kernel_sizes:\n",
        "        conv1 = Conv1D(filters=325, \n",
        "                        kernel_size=kernel_size, \n",
        "                        activation='relu')(embedded_sequences)\n",
        "        max_pool = GlobalMaxPooling1D()(conv1)\n",
        "        convolutions.append(max_pool)\n",
        "    merge = concatenate(convolutions, axis=1)\n",
        "    var = Dropout(0.12)(merge) #certain units to be ignored, as to minimize overfitting \n",
        "    var = Dense(120, activation='relu')(var)\n",
        "    var = Dropout(0.18)(var) #certain units to be ignored as to minimize overfitting \n",
        "    sigmoid_pred = Dense(2, activation='sigmoid')(var) #sigmoid for prediction\n",
        "    cnn_model = Model(seq_input, sigmoid_pred)\n",
        "    cnn_model.compile(loss='binary_crossentropy',\n",
        "                  optimizer='adam',\n",
        "                  metrics=['accuracy']) #use crossentroypy for loss function\n",
        "    cnn_model.summary()\n",
        "    return cnn_model"
      ],
      "execution_count": null,
      "outputs": []
    },
    {
      "cell_type": "markdown",
      "metadata": {
        "id": "GYmpv3VCPCSf"
      },
      "source": [
        "initialize the cnn"
      ]
    },
    {
      "cell_type": "code",
      "metadata": {
        "id": "2WPOub-1XEmE",
        "outputId": "c29a37a7-bad7-4974-a3e6-0fda36243f8e",
        "colab": {
          "base_uri": "https://localhost:8080/"
        }
      },
      "source": [
        "parties = ['dem', 'rep']\n",
        "cnn_model = CNN(train_embeddings, \n",
        "                max_lenght, \n",
        "                train_vocab_lenght+1, \n",
        "                word2vec_dim) #creates the CNN model"
      ],
      "execution_count": null,
      "outputs": [
        {
          "output_type": "stream",
          "text": [
            "Model: \"functional_57\"\n",
            "__________________________________________________________________________________________________\n",
            "Layer (type)                    Output Shape         Param #     Connected to                     \n",
            "==================================================================================================\n",
            "input_34 (InputLayer)           [(None, 50)]         0                                            \n",
            "__________________________________________________________________________________________________\n",
            "embedding_33 (Embedding)        (None, 50, 350)      6776700     input_34[0][0]                   \n",
            "__________________________________________________________________________________________________\n",
            "conv1d_175 (Conv1D)             (None, 50, 325)      114075      embedding_33[0][0]               \n",
            "__________________________________________________________________________________________________\n",
            "conv1d_176 (Conv1D)             (None, 49, 325)      227825      embedding_33[0][0]               \n",
            "__________________________________________________________________________________________________\n",
            "conv1d_177 (Conv1D)             (None, 48, 325)      341575      embedding_33[0][0]               \n",
            "__________________________________________________________________________________________________\n",
            "conv1d_178 (Conv1D)             (None, 47, 325)      455325      embedding_33[0][0]               \n",
            "__________________________________________________________________________________________________\n",
            "conv1d_179 (Conv1D)             (None, 46, 325)      569075      embedding_33[0][0]               \n",
            "__________________________________________________________________________________________________\n",
            "conv1d_180 (Conv1D)             (None, 45, 325)      682825      embedding_33[0][0]               \n",
            "__________________________________________________________________________________________________\n",
            "global_max_pooling1d_175 (Globa (None, 325)          0           conv1d_175[0][0]                 \n",
            "__________________________________________________________________________________________________\n",
            "global_max_pooling1d_176 (Globa (None, 325)          0           conv1d_176[0][0]                 \n",
            "__________________________________________________________________________________________________\n",
            "global_max_pooling1d_177 (Globa (None, 325)          0           conv1d_177[0][0]                 \n",
            "__________________________________________________________________________________________________\n",
            "global_max_pooling1d_178 (Globa (None, 325)          0           conv1d_178[0][0]                 \n",
            "__________________________________________________________________________________________________\n",
            "global_max_pooling1d_179 (Globa (None, 325)          0           conv1d_179[0][0]                 \n",
            "__________________________________________________________________________________________________\n",
            "global_max_pooling1d_180 (Globa (None, 325)          0           conv1d_180[0][0]                 \n",
            "__________________________________________________________________________________________________\n",
            "concatenate_31 (Concatenate)    (None, 1950)         0           global_max_pooling1d_175[0][0]   \n",
            "                                                                 global_max_pooling1d_176[0][0]   \n",
            "                                                                 global_max_pooling1d_177[0][0]   \n",
            "                                                                 global_max_pooling1d_178[0][0]   \n",
            "                                                                 global_max_pooling1d_179[0][0]   \n",
            "                                                                 global_max_pooling1d_180[0][0]   \n",
            "__________________________________________________________________________________________________\n",
            "dropout_58 (Dropout)            (None, 1950)         0           concatenate_31[0][0]             \n",
            "__________________________________________________________________________________________________\n",
            "dense_62 (Dense)                (None, 120)          234120      dropout_58[0][0]                 \n",
            "__________________________________________________________________________________________________\n",
            "dropout_59 (Dropout)            (None, 120)          0           dense_62[0][0]                   \n",
            "__________________________________________________________________________________________________\n",
            "dense_63 (Dense)                (None, 2)            242         dropout_59[0][0]                 \n",
            "==================================================================================================\n",
            "Total params: 9,401,762\n",
            "Trainable params: 2,625,062\n",
            "Non-trainable params: 6,776,700\n",
            "__________________________________________________________________________________________________\n"
          ],
          "name": "stdout"
        }
      ]
    },
    {
      "cell_type": "markdown",
      "metadata": {
        "id": "tm0BEeooPGAT"
      },
      "source": [
        "train the CNN"
      ]
    },
    {
      "cell_type": "code",
      "metadata": {
        "id": "nf-7eGWFXwFD",
        "outputId": "13d53f1d-00a2-4d67-ce05-74d3d8a690c2",
        "colab": {
          "base_uri": "https://localhost:8080/"
        }
      },
      "source": [
        "#training the CNN\n",
        "y_train = training_data[parties].values\n",
        "x_train = cnn_training_data\n",
        "\n",
        "epochs = 40 #number of times data is passed through\n",
        "batch = 400#number of data points passed through at once\n",
        "validation_share = 0.1 #10% of training data is used as validation data\n",
        "history = cnn_model.fit(x_train, \n",
        "                 y_train, \n",
        "                 epochs=epochs, \n",
        "                 validation_split=validation_share, \n",
        "                 shuffle=True, \n",
        "                 batch_size=batch)\n",
        "\n",
        "\n"
      ],
      "execution_count": null,
      "outputs": [
        {
          "output_type": "stream",
          "text": [
            "Epoch 1/40\n",
            "23/23 [==============================] - 80s 3s/step - loss: 0.8718 - accuracy: 0.5946 - val_loss: 0.5637 - val_accuracy: 0.7465\n",
            "Epoch 2/40\n",
            "23/23 [==============================] - 79s 3s/step - loss: 0.5258 - accuracy: 0.7595 - val_loss: 0.4304 - val_accuracy: 0.8215\n",
            "Epoch 3/40\n",
            "23/23 [==============================] - 80s 3s/step - loss: 0.4045 - accuracy: 0.8281 - val_loss: 0.3352 - val_accuracy: 0.8639\n",
            "Epoch 4/40\n",
            "23/23 [==============================] - 80s 3s/step - loss: 0.3041 - accuracy: 0.8872 - val_loss: 0.2779 - val_accuracy: 0.8807\n",
            "Epoch 5/40\n",
            "23/23 [==============================] - 80s 3s/step - loss: 0.2256 - accuracy: 0.9207 - val_loss: 0.2649 - val_accuracy: 0.8708\n",
            "Epoch 6/40\n",
            "23/23 [==============================] - 80s 3s/step - loss: 0.1670 - accuracy: 0.9441 - val_loss: 0.2445 - val_accuracy: 0.8915\n",
            "Epoch 7/40\n",
            "23/23 [==============================] - 82s 4s/step - loss: 0.1150 - accuracy: 0.9656 - val_loss: 0.2507 - val_accuracy: 0.8876\n",
            "Epoch 8/40\n",
            "23/23 [==============================] - 79s 3s/step - loss: 0.0847 - accuracy: 0.9789 - val_loss: 0.2634 - val_accuracy: 0.8955\n",
            "Epoch 9/40\n",
            "23/23 [==============================] - 80s 3s/step - loss: 0.0648 - accuracy: 0.9861 - val_loss: 0.2834 - val_accuracy: 0.8886\n",
            "Epoch 10/40\n",
            "23/23 [==============================] - 80s 3s/step - loss: 0.0559 - accuracy: 0.9884 - val_loss: 0.2758 - val_accuracy: 0.8925\n",
            "Epoch 11/40\n",
            "23/23 [==============================] - 82s 4s/step - loss: 0.0451 - accuracy: 0.9909 - val_loss: 0.2979 - val_accuracy: 0.8955\n",
            "Epoch 12/40\n",
            "23/23 [==============================] - 80s 3s/step - loss: 0.0397 - accuracy: 0.9910 - val_loss: 0.3335 - val_accuracy: 0.8866\n",
            "Epoch 13/40\n",
            "23/23 [==============================] - 80s 3s/step - loss: 0.0369 - accuracy: 0.9921 - val_loss: 0.3390 - val_accuracy: 0.8945\n",
            "Epoch 14/40\n",
            "23/23 [==============================] - 80s 3s/step - loss: 0.0302 - accuracy: 0.9942 - val_loss: 0.3602 - val_accuracy: 0.8945\n",
            "Epoch 15/40\n",
            "23/23 [==============================] - 82s 4s/step - loss: 0.0265 - accuracy: 0.9955 - val_loss: 0.3625 - val_accuracy: 0.8945\n",
            "Epoch 16/40\n",
            "23/23 [==============================] - 80s 3s/step - loss: 0.0218 - accuracy: 0.9965 - val_loss: 0.4204 - val_accuracy: 0.8836\n",
            "Epoch 17/40\n",
            "23/23 [==============================] - 80s 3s/step - loss: 0.0220 - accuracy: 0.9956 - val_loss: 0.4117 - val_accuracy: 0.8886\n",
            "Epoch 18/40\n",
            "23/23 [==============================] - 80s 3s/step - loss: 0.0171 - accuracy: 0.9974 - val_loss: 0.4590 - val_accuracy: 0.8856\n",
            "Epoch 19/40\n",
            "23/23 [==============================] - 80s 3s/step - loss: 0.0158 - accuracy: 0.9969 - val_loss: 0.4263 - val_accuracy: 0.8955\n",
            "Epoch 20/40\n",
            "23/23 [==============================] - 80s 3s/step - loss: 0.0127 - accuracy: 0.9973 - val_loss: 0.4716 - val_accuracy: 0.8945\n",
            "Epoch 21/40\n",
            "23/23 [==============================] - 80s 3s/step - loss: 0.0143 - accuracy: 0.9974 - val_loss: 0.4693 - val_accuracy: 0.8935\n",
            "Epoch 22/40\n",
            "23/23 [==============================] - 82s 4s/step - loss: 0.0121 - accuracy: 0.9975 - val_loss: 0.4888 - val_accuracy: 0.8915\n",
            "Epoch 23/40\n",
            "23/23 [==============================] - 80s 3s/step - loss: 0.0157 - accuracy: 0.9956 - val_loss: 0.4423 - val_accuracy: 0.8915\n",
            "Epoch 24/40\n",
            "23/23 [==============================] - 80s 3s/step - loss: 0.0363 - accuracy: 0.9902 - val_loss: 0.4886 - val_accuracy: 0.9014\n",
            "Epoch 25/40\n",
            "23/23 [==============================] - 80s 3s/step - loss: 0.0198 - accuracy: 0.9952 - val_loss: 0.5360 - val_accuracy: 0.8974\n",
            "Epoch 26/40\n",
            "23/23 [==============================] - 80s 3s/step - loss: 0.0187 - accuracy: 0.9937 - val_loss: 0.4448 - val_accuracy: 0.8817\n",
            "Epoch 27/40\n",
            "23/23 [==============================] - 80s 3s/step - loss: 0.0250 - accuracy: 0.9933 - val_loss: 0.5272 - val_accuracy: 0.8826\n",
            "Epoch 28/40\n",
            "23/23 [==============================] - 80s 3s/step - loss: 0.0192 - accuracy: 0.9944 - val_loss: 0.5437 - val_accuracy: 0.8886\n",
            "Epoch 29/40\n",
            "23/23 [==============================] - 82s 4s/step - loss: 0.0266 - accuracy: 0.9919 - val_loss: 0.5152 - val_accuracy: 0.8807\n",
            "Epoch 30/40\n",
            "23/23 [==============================] - 80s 3s/step - loss: 0.0247 - accuracy: 0.9930 - val_loss: 0.5343 - val_accuracy: 0.8679\n",
            "Epoch 31/40\n",
            "23/23 [==============================] - 80s 3s/step - loss: 0.0188 - accuracy: 0.9951 - val_loss: 0.5858 - val_accuracy: 0.8876\n",
            "Epoch 32/40\n",
            "23/23 [==============================] - 80s 3s/step - loss: 0.0098 - accuracy: 0.9978 - val_loss: 0.5689 - val_accuracy: 0.8925\n",
            "Epoch 33/40\n",
            "23/23 [==============================] - 80s 3s/step - loss: 0.0121 - accuracy: 0.9969 - val_loss: 0.6035 - val_accuracy: 0.8797\n",
            "Epoch 34/40\n",
            "23/23 [==============================] - 80s 3s/step - loss: 0.0138 - accuracy: 0.9964 - val_loss: 0.5583 - val_accuracy: 0.8945\n",
            "Epoch 35/40\n",
            "23/23 [==============================] - 80s 3s/step - loss: 0.0130 - accuracy: 0.9966 - val_loss: 0.6231 - val_accuracy: 0.8915\n",
            "Epoch 36/40\n",
            "23/23 [==============================] - 83s 4s/step - loss: 0.0086 - accuracy: 0.9971 - val_loss: 0.6052 - val_accuracy: 0.8856\n",
            "Epoch 37/40\n",
            "23/23 [==============================] - 80s 3s/step - loss: 0.0081 - accuracy: 0.9978 - val_loss: 0.6921 - val_accuracy: 0.8925\n",
            "Epoch 38/40\n",
            "23/23 [==============================] - 80s 3s/step - loss: 0.0074 - accuracy: 0.9981 - val_loss: 0.6959 - val_accuracy: 0.8905\n",
            "Epoch 39/40\n",
            "23/23 [==============================] - 80s 3s/step - loss: 0.0057 - accuracy: 0.9989 - val_loss: 0.6519 - val_accuracy: 0.8886\n",
            "Epoch 40/40\n",
            "23/23 [==============================] - 80s 3s/step - loss: 0.0054 - accuracy: 0.9988 - val_loss: 0.6622 - val_accuracy: 0.8905\n"
          ],
          "name": "stdout"
        }
      ]
    },
    {
      "cell_type": "code",
      "metadata": {
        "id": "XQ9AuKGerqdy",
        "outputId": "0675ed2d-05b4-4ccf-87d0-105fcdefd2e3",
        "colab": {
          "base_uri": "https://localhost:8080/",
          "height": 1000
        }
      },
      "source": [
        "plt.style.use('fivethirtyeight')\n",
        "\n",
        "# plot of accuracy history for training of CNN\n",
        "plt.plot(history.history['accuracy'])\n",
        "plt.plot(history.history['val_accuracy'])\n",
        "plt.title('accuracy of model')\n",
        "plt.ylabel('accuracy')\n",
        "plt.xlabel('epoch')\n",
        "plt.legend(['train', 'validation'], loc='upper left')\n",
        "plt.show()\n",
        "# plot of loss history for training of CNN\n",
        "plt.plot(history.history['loss'])\n",
        "plt.plot(history.history['val_loss'])\n",
        "plt.title('loss of model')\n",
        "plt.ylabel('loss')\n",
        "plt.xlabel('epochs')\n",
        "plt.legend(['train', 'validation'], loc='upper left')\n",
        "plt.show()"
      ],
      "execution_count": null,
      "outputs": [
        {
          "output_type": "display_data",
          "data": {
            "image/png": "[encoded data removed]",
            "text/plain": [
              "<Figure size 748.8x514.8 with 1 Axes>"
            ]
          },
          "metadata": {
            "tags": []
          }
        },
        {
          "output_type": "display_data",
          "data": {
            "image/png": "[encoded data removed]",
            "text/plain": [
              "<Figure size 748.8x514.8 with 1 Axes>"
            ]
          },
          "metadata": {
            "tags": []
          }
        }
      ]
    },
    {
      "cell_type": "code",
      "metadata": {
        "id": "iZ_Zf3J7YMcn",
        "outputId": "3dfde217-ecd9-4791-de06-f03348377289",
        "colab": {
          "base_uri": "https://localhost:8080/"
        }
      },
      "source": [
        "#make prediction on test data using trained CNN\n",
        "predictions = cnn_model.predict(cnn_testing_data, \n",
        "                            batch_size=300, \n",
        "                            verbose=0)\n",
        "party_labels = [\"Democrat\", \"Republican\"]\n",
        "prediction_parties=[]\n",
        "\n",
        "for prediction in predictions:\n",
        "    prediction_parties.append(party_labels[np.argmax(prediction)])\n",
        "\n",
        "#present the result! \n",
        "print(test_data.Party.value_counts())\n",
        "print(\"test accuracy: \" + str(sum(test_data.Party==prediction_parties)/len(test_data)))\n",
        "i = 0\n",
        "demCorrect = 0\n",
        "repCorrect = 0\n",
        "for party in test_data.Party:\n",
        "  if party == \"Democrat\":\n",
        "    if prediction_parties[i] == \"Democrat\":\n",
        "      demCorrect += 1\n",
        "  elif party == \"Republican\":\n",
        "    if prediction_parties[i] == \"Republican\":\n",
        "      repCorrect += 1\n",
        "  i += 1\n",
        "print(\"Democrat tweets correctly guessed: \" + str(demCorrect))\n",
        "print(\"Republican tweets correctly guessed: \" + str(repCorrect))\n"
      ],
      "execution_count": null,
      "outputs": [
        {
          "output_type": "stream",
          "text": [
            "Democrat      1314\n",
            "Republican    1219\n",
            "Name: Party, dtype: int64\n",
            "test accuracy: 0.8744571654165022\n",
            "Democrat tweets correctly guessed: 1147\n",
            "Republican tweets correctly guessed: 1068\n"
          ],
          "name": "stdout"
        }
      ]
    }
  ]
}